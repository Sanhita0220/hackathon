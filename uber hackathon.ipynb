{
 "cells": [
  {
   "cell_type": "code",
   "execution_count": 1,
   "id": "67e52ed2",
   "metadata": {},
   "outputs": [],
   "source": [
    "import numpy as np\n",
    "import pandas as pd"
   ]
  },
  {
   "cell_type": "code",
   "execution_count": 12,
   "id": "be3c1820",
   "metadata": {},
   "outputs": [
    {
     "data": {
      "text/html": [
       "<div>\n",
       "<style scoped>\n",
       "    .dataframe tbody tr th:only-of-type {\n",
       "        vertical-align: middle;\n",
       "    }\n",
       "\n",
       "    .dataframe tbody tr th {\n",
       "        vertical-align: top;\n",
       "    }\n",
       "\n",
       "    .dataframe thead th {\n",
       "        text-align: right;\n",
       "    }\n",
       "</style>\n",
       "<table border=\"1\" class=\"dataframe\">\n",
       "  <thead>\n",
       "    <tr style=\"text-align: right;\">\n",
       "      <th></th>\n",
       "      <th>ride_id</th>\n",
       "      <th>fare_amount</th>\n",
       "      <th>pickup_datetime</th>\n",
       "      <th>pickup_longitude</th>\n",
       "      <th>pickup_latitude</th>\n",
       "      <th>dropoff_longitude</th>\n",
       "      <th>dropoff_latitude</th>\n",
       "      <th>passenger_count</th>\n",
       "    </tr>\n",
       "  </thead>\n",
       "  <tbody>\n",
       "    <tr>\n",
       "      <th>0</th>\n",
       "      <td>24238194</td>\n",
       "      <td>7.5</td>\n",
       "      <td>2015-05-07 19:52:06 UTC</td>\n",
       "      <td>-73.999817</td>\n",
       "      <td>40.738354</td>\n",
       "      <td>-73.999512</td>\n",
       "      <td>40.723217</td>\n",
       "      <td>1</td>\n",
       "    </tr>\n",
       "    <tr>\n",
       "      <th>1</th>\n",
       "      <td>27835199</td>\n",
       "      <td>7.7</td>\n",
       "      <td>2009-07-17 20:04:56 UTC</td>\n",
       "      <td>-73.994355</td>\n",
       "      <td>40.728225</td>\n",
       "      <td>-73.994710</td>\n",
       "      <td>40.750325</td>\n",
       "      <td>1</td>\n",
       "    </tr>\n",
       "    <tr>\n",
       "      <th>2</th>\n",
       "      <td>44984355</td>\n",
       "      <td>12.9</td>\n",
       "      <td>2009-08-24 21:45:00 UTC</td>\n",
       "      <td>-74.005043</td>\n",
       "      <td>40.740770</td>\n",
       "      <td>-73.962565</td>\n",
       "      <td>40.772647</td>\n",
       "      <td>1</td>\n",
       "    </tr>\n",
       "    <tr>\n",
       "      <th>3</th>\n",
       "      <td>25894730</td>\n",
       "      <td>5.3</td>\n",
       "      <td>2009-06-26 08:22:21 UTC</td>\n",
       "      <td>-73.976124</td>\n",
       "      <td>40.790844</td>\n",
       "      <td>-73.965316</td>\n",
       "      <td>40.803349</td>\n",
       "      <td>3</td>\n",
       "    </tr>\n",
       "    <tr>\n",
       "      <th>4</th>\n",
       "      <td>17610152</td>\n",
       "      <td>16.0</td>\n",
       "      <td>2014-08-28 17:47:00 UTC</td>\n",
       "      <td>-73.925023</td>\n",
       "      <td>40.744085</td>\n",
       "      <td>-73.973082</td>\n",
       "      <td>40.761247</td>\n",
       "      <td>5</td>\n",
       "    </tr>\n",
       "  </tbody>\n",
       "</table>\n",
       "</div>"
      ],
      "text/plain": [
       "    ride_id  fare_amount          pickup_datetime  pickup_longitude  \\\n",
       "0  24238194          7.5  2015-05-07 19:52:06 UTC        -73.999817   \n",
       "1  27835199          7.7  2009-07-17 20:04:56 UTC        -73.994355   \n",
       "2  44984355         12.9  2009-08-24 21:45:00 UTC        -74.005043   \n",
       "3  25894730          5.3  2009-06-26 08:22:21 UTC        -73.976124   \n",
       "4  17610152         16.0  2014-08-28 17:47:00 UTC        -73.925023   \n",
       "\n",
       "   pickup_latitude  dropoff_longitude  dropoff_latitude  passenger_count  \n",
       "0        40.738354         -73.999512         40.723217                1  \n",
       "1        40.728225         -73.994710         40.750325                1  \n",
       "2        40.740770         -73.962565         40.772647                1  \n",
       "3        40.790844         -73.965316         40.803349                3  \n",
       "4        40.744085         -73.973082         40.761247                5  "
      ]
     },
     "execution_count": 12,
     "metadata": {},
     "output_type": "execute_result"
    }
   ],
   "source": [
    "df = pd.read_excel('uber_rides_data.xlsx')\n",
    "df.head()"
   ]
  },
  {
   "cell_type": "code",
   "execution_count": 3,
   "id": "5bbced96",
   "metadata": {},
   "outputs": [
    {
     "name": "stdout",
     "output_type": "stream",
     "text": [
      "(200000, 8)\n"
     ]
    }
   ],
   "source": [
    "#What is the shape of given dataset?\n",
    "\n",
    "print(df.shape)"
   ]
  },
  {
   "cell_type": "code",
   "execution_count": 5,
   "id": "7c7a7bb2",
   "metadata": {},
   "outputs": [
    {
     "data": {
      "text/plain": [
       "<bound method DataFrame.count of          ride_id  passenger_count\n",
       "0       24238194                1\n",
       "1       27835199                1\n",
       "2       44984355                1\n",
       "3       25894730                3\n",
       "4       17610152                5\n",
       "...          ...              ...\n",
       "199995  42598914                1\n",
       "199996  16382965                1\n",
       "199997  27804658                2\n",
       "199998  20259894                1\n",
       "199999  11951496                1\n",
       "\n",
       "[200000 rows x 2 columns]>"
      ]
     },
     "execution_count": 5,
     "metadata": {},
     "output_type": "execute_result"
    }
   ],
   "source": [
    "# How many integer columns(by default) are given in the dataset?\n",
    "\n",
    "df.select_dtypes(include = ['int']).count"
   ]
  },
  {
   "cell_type": "markdown",
   "id": "a83d922a",
   "metadata": {},
   "source": [
    "#### How many missing values exists in 'dropoff_longitude' column?"
   ]
  },
  {
   "cell_type": "code",
   "execution_count": 6,
   "id": "12f8cf63",
   "metadata": {},
   "outputs": [
    {
     "name": "stdout",
     "output_type": "stream",
     "text": [
      "missing value: 1\n"
     ]
    }
   ],
   "source": [
    "\n",
    "missing_value = sum(pd.isnull(df['dropoff_longitude']))\n",
    "print('missing value:',missing_value)"
   ]
  },
  {
   "cell_type": "markdown",
   "id": "5fe52d9f",
   "metadata": {},
   "source": [
    "#### What is the data type of ' pickup_datetime' feature in your data?\n"
   ]
  },
  {
   "cell_type": "code",
   "execution_count": 26,
   "id": "3fe51e24",
   "metadata": {},
   "outputs": [
    {
     "name": "stdout",
     "output_type": "stream",
     "text": [
      "Data type: object\n"
     ]
    }
   ],
   "source": [
    "data_type = df.dtypes['pickup_datetime']\n",
    "print('Data type:',data_type)"
   ]
  },
  {
   "cell_type": "markdown",
   "id": "a7e4db5d",
   "metadata": {},
   "source": [
    "#### Which of the following is the correct syntax to convert 'pickup_datetime' to datetime datatype?"
   ]
  },
  {
   "cell_type": "code",
   "execution_count": 15,
   "id": "59550c2c",
   "metadata": {},
   "outputs": [],
   "source": [
    "# pd.datetime(df['pickup_datetime'])\n",
    "\n",
    "# output gives the output i.e., TypeError: 'Series' object cannot be interpreted as an integer"
   ]
  },
  {
   "cell_type": "code",
   "execution_count": 35,
   "id": "6908415d",
   "metadata": {},
   "outputs": [
    {
     "data": {
      "text/plain": [
       "0        1970-01-01 00:00:00.000001970\n",
       "1        1970-01-01 00:00:00.000001970\n",
       "2        1970-01-01 00:00:00.000001970\n",
       "3        1970-01-01 00:00:00.000001970\n",
       "4        1970-01-01 00:00:00.000001970\n",
       "                      ...             \n",
       "199995   1970-01-01 00:00:00.000001970\n",
       "199996   1970-01-01 00:00:00.000001970\n",
       "199997   1970-01-01 00:00:00.000001970\n",
       "199998   1970-01-01 00:00:00.000001970\n",
       "199999   1970-01-01 00:00:00.000001970\n",
       "Name: pickup_datetime, Length: 200000, dtype: datetime64[ns]"
      ]
     },
     "execution_count": 35,
     "metadata": {},
     "output_type": "execute_result"
    }
   ],
   "source": [
    "\n",
    "#pd.to_datetime(df['pickup_datetime'])\n",
    "\n",
    "pd.to_datetime(df['pickup_datetime'])\n"
   ]
  },
  {
   "cell_type": "code",
   "execution_count": 11,
   "id": "8fbb4120",
   "metadata": {},
   "outputs": [
    {
     "data": {
      "text/plain": [
       "0        2015-05-07 19:52:06\n",
       "1        2009-07-17 20:04:56\n",
       "2        2009-08-24 21:45:00\n",
       "3        2009-06-26 08:22:21\n",
       "4        2014-08-28 17:47:00\n",
       "                 ...        \n",
       "199995   2012-10-28 10:49:00\n",
       "199996   2014-03-14 01:09:00\n",
       "199997   2009-06-29 00:42:00\n",
       "199998   2015-05-20 14:56:25\n",
       "199999   2010-05-15 04:08:00\n",
       "Name: pickup_datetime, Length: 200000, dtype: datetime64[ns]"
      ]
     },
     "execution_count": 11,
     "metadata": {},
     "output_type": "execute_result"
    }
   ],
   "source": [
    "# df['pickup_datetime'].astype('datetime64[ns]')\n",
    "\n",
    "df['pickup_datetime'].astype('datetime64[ns]')"
   ]
  },
  {
   "cell_type": "code",
   "execution_count": 16,
   "id": "13218332",
   "metadata": {},
   "outputs": [],
   "source": [
    "# df['pickup_datetime'].to_type('datetime64[ns]')\n",
    "\n",
    "# output gives the error i.e, AttributeError: 'Series' object has no attribute 'to_type'"
   ]
  },
  {
   "cell_type": "markdown",
   "id": "81dd5eb3",
   "metadata": {},
   "source": [
    "#### Which function can be used to remove null values from the dataframe?\n"
   ]
  },
  {
   "cell_type": "code",
   "execution_count": 17,
   "id": "042a7a54",
   "metadata": {},
   "outputs": [
    {
     "name": "stdout",
     "output_type": "stream",
     "text": [
      "\n",
      "DataFrame after removing null values...\n",
      "     ride_id  fare_amount          pickup_datetime  pickup_longitude  \\\n",
      "0  24238194          7.5  2015-05-07 19:52:06 UTC        -73.999817   \n",
      "1  27835199          7.7  2009-07-17 20:04:56 UTC        -73.994355   \n",
      "2  44984355         12.9  2009-08-24 21:45:00 UTC        -74.005043   \n",
      "3  25894730          5.3  2009-06-26 08:22:21 UTC        -73.976124   \n",
      "4  17610152         16.0  2014-08-28 17:47:00 UTC        -73.925023   \n",
      "\n",
      "   pickup_latitude  dropoff_longitude  dropoff_latitude  passenger_count  \n",
      "0        40.738354         -73.999512         40.723217                1  \n",
      "1        40.728225         -73.994710         40.750325                1  \n",
      "2        40.740770         -73.962565         40.772647                1  \n",
      "3        40.790844         -73.965316         40.803349                3  \n",
      "4        40.744085         -73.973082         40.761247                5  \n"
     ]
    }
   ],
   "source": [
    "dataFrame = df.dropna()\n",
    "print(\"\\nDataFrame after removing null values...\\n\",dataFrame.head())"
   ]
  },
  {
   "cell_type": "markdown",
   "id": "2e7f74e3",
   "metadata": {},
   "source": [
    "#### What is the average fare amount?"
   ]
  },
  {
   "cell_type": "code",
   "execution_count": 19,
   "id": "65e7bc44",
   "metadata": {},
   "outputs": [
    {
     "name": "stdout",
     "output_type": "stream",
     "text": [
      "Average: 11.359955250000002\n"
     ]
    }
   ],
   "source": [
    "average = df['fare_amount'].mean()\n",
    "print('Average:',average)"
   ]
  },
  {
   "cell_type": "markdown",
   "id": "c30ae7ca",
   "metadata": {},
   "source": [
    "#### Calculate distance between each pickup and dropoff points using Haversine formula. \n",
    "#### What is the median haversine distance between pickup and dropoff location according to the given dataset?"
   ]
  },
  {
   "cell_type": "code",
   "execution_count": 45,
   "id": "5c777b26",
   "metadata": {},
   "outputs": [],
   "source": [
    "def haversine(lat1, lon1, lat2, lon2, radius=6371):\n",
    "    \"\"\"\n",
    "    Calculate the distance between two points on a sphere using the Haversine formula.\n",
    "    \"\"\"\n",
    "    dlat = np.radians(lat2 - lat1)\n",
    "    dlon = np.radians(lon2 - lon1)\n",
    "    a = np.sin(dlat / 2) ** 2 + np.cos(np.radians(lat1)) * np.cos(np.radians(lat2)) * np.sin(dlon / 2) ** 2\n",
    "    c = 2 * np.arcsin(np.sqrt(a))\n",
    "    return radius * c"
   ]
  },
  {
   "cell_type": "code",
   "execution_count": 46,
   "id": "49ecde37",
   "metadata": {},
   "outputs": [
    {
     "data": {
      "text/plain": [
       "0          1.683323\n",
       "1          2.457590\n",
       "2          5.036377\n",
       "3          1.661683\n",
       "4          4.475450\n",
       "            ...    \n",
       "199995     0.112210\n",
       "199996     1.875050\n",
       "199997    12.850319\n",
       "199998     3.539715\n",
       "199999     5.417783\n",
       "Length: 200000, dtype: float64"
      ]
     },
     "execution_count": 46,
     "metadata": {},
     "output_type": "execute_result"
    }
   ],
   "source": [
    "d = haversine(df['pickup_latitude'], df['pickup_longitude'], df['dropoff_latitude'], df['dropoff_longitude'])\n",
    "d"
   ]
  },
  {
   "cell_type": "markdown",
   "id": "f0026bc6",
   "metadata": {},
   "source": [
    "#### What is the median haversine distance between pickup and dropoff location according to the given dataset?"
   ]
  },
  {
   "cell_type": "code",
   "execution_count": 47,
   "id": "9c60d4e7",
   "metadata": {},
   "outputs": [
    {
     "data": {
      "text/plain": [
       "2.120992396183407"
      ]
     },
     "execution_count": 47,
     "metadata": {},
     "output_type": "execute_result"
    }
   ],
   "source": [
    "d.median()"
   ]
  },
  {
   "cell_type": "markdown",
   "id": "2649ca66",
   "metadata": {},
   "source": [
    "#### What is the maximum haversine distance between pickup and dropoff location according to the given dataset?"
   ]
  },
  {
   "cell_type": "code",
   "execution_count": 48,
   "id": "92360a41",
   "metadata": {},
   "outputs": [
    {
     "data": {
      "text/plain": [
       "16409.239135313182"
      ]
     },
     "execution_count": 48,
     "metadata": {},
     "output_type": "execute_result"
    }
   ],
   "source": [
    "d.max()"
   ]
  },
  {
   "cell_type": "markdown",
   "id": "2bf37c3a",
   "metadata": {},
   "source": [
    "#### another method"
   ]
  },
  {
   "cell_type": "code",
   "execution_count": 41,
   "id": "b903fa60",
   "metadata": {},
   "outputs": [
    {
     "name": "stdout",
     "output_type": "stream",
     "text": [
      "Collecting haversine\n",
      "  Downloading haversine-2.8.0-py2.py3-none-any.whl (7.7 kB)\n",
      "Installing collected packages: haversine\n",
      "Successfully installed haversine-2.8.0\n"
     ]
    }
   ],
   "source": [
    "!pip install haversine"
   ]
  },
  {
   "cell_type": "code",
   "execution_count": 42,
   "id": "097e9b78",
   "metadata": {},
   "outputs": [],
   "source": [
    "import haversine as hs\n"
   ]
  },
  {
   "cell_type": "code",
   "execution_count": 43,
   "id": "fc88b49c",
   "metadata": {},
   "outputs": [
    {
     "data": {
      "text/plain": [
       "1.6833561212793353"
      ]
     },
     "execution_count": 43,
     "metadata": {},
     "output_type": "execute_result"
    }
   ],
   "source": [
    "loc1=(40.738354,-73.999817)\n",
    "loc2=(40.723217,-73.999512)\n",
    "hs.haversine(loc1,loc2)"
   ]
  },
  {
   "cell_type": "code",
   "execution_count": 49,
   "id": "a258f442",
   "metadata": {},
   "outputs": [
    {
     "data": {
      "text/plain": [
       "0          1.683323\n",
       "1          2.457590\n",
       "2          5.036377\n",
       "3          1.661683\n",
       "4          4.475450\n",
       "            ...    \n",
       "199995     0.112210\n",
       "199996     1.875050\n",
       "199997    12.850319\n",
       "199998     3.539715\n",
       "199999     5.417783\n",
       "Length: 200000, dtype: float64"
      ]
     },
     "execution_count": 49,
     "metadata": {},
     "output_type": "execute_result"
    }
   ],
   "source": [
    "d = haversine(df['pickup_latitude'], df['pickup_longitude'], df['dropoff_latitude'], df['dropoff_longitude'])\n",
    "d"
   ]
  },
  {
   "cell_type": "code",
   "execution_count": 50,
   "id": "557c1352",
   "metadata": {},
   "outputs": [
    {
     "data": {
      "text/plain": [
       "2.120992396183407"
      ]
     },
     "execution_count": 50,
     "metadata": {},
     "output_type": "execute_result"
    }
   ],
   "source": [
    "d.median()"
   ]
  },
  {
   "cell_type": "code",
   "execution_count": 51,
   "id": "fa356315",
   "metadata": {},
   "outputs": [
    {
     "data": {
      "text/plain": [
       "16409.239135313182"
      ]
     },
     "execution_count": 51,
     "metadata": {},
     "output_type": "execute_result"
    }
   ],
   "source": [
    "d.max()"
   ]
  },
  {
   "cell_type": "markdown",
   "id": "5735deef",
   "metadata": {},
   "source": [
    "#### How many rides have 0.0 haversine distance between pickup and dropoff location according to the given dataset?\n"
   ]
  },
  {
   "cell_type": "code",
   "execution_count": 66,
   "id": "4187c36e",
   "metadata": {},
   "outputs": [
    {
     "name": "stdout",
     "output_type": "stream",
     "text": [
      "0        NaN\n",
      "1        NaN\n",
      "2        NaN\n",
      "3        NaN\n",
      "4        NaN\n",
      "          ..\n",
      "199995   NaN\n",
      "199996   NaN\n",
      "199997   NaN\n",
      "199998   NaN\n",
      "199999   NaN\n",
      "Length: 200000, dtype: float64\n"
     ]
    },
    {
     "data": {
      "text/plain": [
       "6807"
      ]
     },
     "execution_count": 66,
     "metadata": {},
     "output_type": "execute_result"
    }
   ],
   "source": [
    "x = d.where(d < 0.1)\n",
    "print(x)\n",
    "x.count()\n"
   ]
  },
  {
   "cell_type": "markdown",
   "id": "2ea96016",
   "metadata": {},
   "source": [
    "#### What is the mean 'fare_amount' for rides with 0 haversine distance?\n"
   ]
  },
  {
   "cell_type": "code",
   "execution_count": 72,
   "id": "1f54a9f6",
   "metadata": {},
   "outputs": [
    {
     "name": "stdout",
     "output_type": "stream",
     "text": [
      "11.359955250000002\n"
     ]
    }
   ],
   "source": [
    "f = df['fare_amount'].mean()\n",
    "print(f)\n",
    "\n",
    "\n",
    "#In the above question if we cant use haversine becoz the haversine formula works with latitutde and longitude values given.\n",
    "#if we try performing the syntax we get the error as this \"haversine() missing 3 required positional arguments: 'lon1', 'lat2', and 'lon2'\""
   ]
  },
  {
   "cell_type": "code",
   "execution_count": 71,
   "id": "5d6bad27",
   "metadata": {},
   "outputs": [
    {
     "name": "stdout",
     "output_type": "stream",
     "text": [
      "499.0\n"
     ]
    }
   ],
   "source": [
    "# What is the maximum 'fare_amount' for a ride?\n",
    "\n",
    "\n",
    "maximum = df['fare_amount'].max()\n",
    "print(maximum)"
   ]
  },
  {
   "cell_type": "markdown",
   "id": "8d87a9fc",
   "metadata": {},
   "source": [
    "#### What is the haversine distance between pickup and dropoff location for the costliest ride?"
   ]
  },
  {
   "cell_type": "code",
   "execution_count": 80,
   "id": "f7db818c",
   "metadata": {},
   "outputs": [
    {
     "ename": "AttributeError",
     "evalue": "'float' object has no attribute 'info'",
     "output_type": "error",
     "traceback": [
      "\u001b[1;31m---------------------------------------------------------------------------\u001b[0m",
      "\u001b[1;31mAttributeError\u001b[0m                            Traceback (most recent call last)",
      "Cell \u001b[1;32mIn[80], line 1\u001b[0m\n\u001b[1;32m----> 1\u001b[0m costliest_ride \u001b[38;5;241m=\u001b[39m \u001b[43mdf\u001b[49m\u001b[43m[\u001b[49m\u001b[38;5;124;43m'\u001b[39;49m\u001b[38;5;124;43mfare_amount\u001b[39;49m\u001b[38;5;124;43m'\u001b[39;49m\u001b[43m]\u001b[49m\u001b[38;5;241;43m.\u001b[39;49m\u001b[43mmax\u001b[49m\u001b[43m(\u001b[49m\u001b[43m)\u001b[49m\u001b[38;5;241;43m.\u001b[39;49m\u001b[43minfo\u001b[49m()\n\u001b[0;32m      2\u001b[0m \u001b[38;5;28mprint\u001b[39m(\u001b[38;5;124m'\u001b[39m\u001b[38;5;124mcostliest_ride:\u001b[39m\u001b[38;5;124m'\u001b[39m,costliest_ride)\n\u001b[0;32m      3\u001b[0m loc1\u001b[38;5;241m=\u001b[39m(\u001b[38;5;241m40.738354\u001b[39m,\u001b[38;5;241m-\u001b[39m\u001b[38;5;241m73.999817\u001b[39m)\n",
      "\u001b[1;31mAttributeError\u001b[0m: 'float' object has no attribute 'info'"
     ]
    }
   ],
   "source": [
    "costliest_ride = df['fare_amount'].max()\n",
    "print('costliest_ride:',costliest_ride)\n",
    "\n",
    "dataFrame.loc[(dataFrame['Salary']>=100000) & (dataFrame['Age']< 40) & (dataFrame['JOB'].str.startswith('D')),\n",
    "                    ['Name','JOB']])\n",
    "df.loc[df['fare_amount']=499]\n",
    "print()\n",
    "loc1=(40.738354,-73.999817)\n",
    "loc2=(40.723217,-73.999512)\n",
    "hs.haversine(loc1,loc2)"
   ]
  },
  {
   "cell_type": "code",
   "execution_count": 75,
   "id": "679306f4",
   "metadata": {},
   "outputs": [
    {
     "ename": "AttributeError",
     "evalue": "'Series' object has no attribute 'year'",
     "output_type": "error",
     "traceback": [
      "\u001b[1;31m---------------------------------------------------------------------------\u001b[0m",
      "\u001b[1;31mAttributeError\u001b[0m                            Traceback (most recent call last)",
      "Cell \u001b[1;32mIn[75], line 4\u001b[0m\n\u001b[0;32m      1\u001b[0m \u001b[38;5;66;03m# How many rides were recorded in the year 2014?\u001b[39;00m\n\u001b[0;32m      3\u001b[0m df[\u001b[38;5;124m'\u001b[39m\u001b[38;5;124mpickup_datetime\u001b[39m\u001b[38;5;124m'\u001b[39m]\u001b[38;5;241m.\u001b[39mastype(\u001b[38;5;124m'\u001b[39m\u001b[38;5;124mdatetime64[ns]\u001b[39m\u001b[38;5;124m'\u001b[39m)\n\u001b[1;32m----> 4\u001b[0m rides \u001b[38;5;241m=\u001b[39m \u001b[43mdf\u001b[49m\u001b[43m[\u001b[49m\u001b[38;5;124;43m'\u001b[39;49m\u001b[38;5;124;43mpickup_datetime\u001b[39;49m\u001b[38;5;124;43m'\u001b[39;49m\u001b[43m]\u001b[49m\u001b[38;5;241;43m.\u001b[39;49m\u001b[43myear\u001b[49m\n\u001b[0;32m      5\u001b[0m \u001b[38;5;28mprint\u001b[39m(rides)\n",
      "File \u001b[1;32m~\\anaconda2\\lib\\site-packages\\pandas\\core\\generic.py:5902\u001b[0m, in \u001b[0;36mNDFrame.__getattr__\u001b[1;34m(self, name)\u001b[0m\n\u001b[0;32m   5895\u001b[0m \u001b[38;5;28;01mif\u001b[39;00m (\n\u001b[0;32m   5896\u001b[0m     name \u001b[38;5;129;01mnot\u001b[39;00m \u001b[38;5;129;01min\u001b[39;00m \u001b[38;5;28mself\u001b[39m\u001b[38;5;241m.\u001b[39m_internal_names_set\n\u001b[0;32m   5897\u001b[0m     \u001b[38;5;129;01mand\u001b[39;00m name \u001b[38;5;129;01mnot\u001b[39;00m \u001b[38;5;129;01min\u001b[39;00m \u001b[38;5;28mself\u001b[39m\u001b[38;5;241m.\u001b[39m_metadata\n\u001b[0;32m   5898\u001b[0m     \u001b[38;5;129;01mand\u001b[39;00m name \u001b[38;5;129;01mnot\u001b[39;00m \u001b[38;5;129;01min\u001b[39;00m \u001b[38;5;28mself\u001b[39m\u001b[38;5;241m.\u001b[39m_accessors\n\u001b[0;32m   5899\u001b[0m     \u001b[38;5;129;01mand\u001b[39;00m \u001b[38;5;28mself\u001b[39m\u001b[38;5;241m.\u001b[39m_info_axis\u001b[38;5;241m.\u001b[39m_can_hold_identifiers_and_holds_name(name)\n\u001b[0;32m   5900\u001b[0m ):\n\u001b[0;32m   5901\u001b[0m     \u001b[38;5;28;01mreturn\u001b[39;00m \u001b[38;5;28mself\u001b[39m[name]\n\u001b[1;32m-> 5902\u001b[0m \u001b[38;5;28;01mreturn\u001b[39;00m \u001b[38;5;28;43mobject\u001b[39;49m\u001b[38;5;241;43m.\u001b[39;49m\u001b[38;5;21;43m__getattribute__\u001b[39;49m\u001b[43m(\u001b[49m\u001b[38;5;28;43mself\u001b[39;49m\u001b[43m,\u001b[49m\u001b[43m \u001b[49m\u001b[43mname\u001b[49m\u001b[43m)\u001b[49m\n",
      "\u001b[1;31mAttributeError\u001b[0m: 'Series' object has no attribute 'year'"
     ]
    }
   ],
   "source": [
    "# How many rides were recorded in the year 2014?\n",
    "\n",
    "df['pickup_datetime'].astype('datetime64[ns]')\n",
    "rides = df['pickup_datetime'].year\n",
    "print(rides)"
   ]
  },
  {
   "cell_type": "code",
   "execution_count": null,
   "id": "e87dc96f",
   "metadata": {},
   "outputs": [],
   "source": []
  }
 ],
 "metadata": {
  "kernelspec": {
   "display_name": "Python 3 (ipykernel)",
   "language": "python",
   "name": "python3"
  },
  "language_info": {
   "codemirror_mode": {
    "name": "ipython",
    "version": 3
   },
   "file_extension": ".py",
   "mimetype": "text/x-python",
   "name": "python",
   "nbconvert_exporter": "python",
   "pygments_lexer": "ipython3",
   "version": "3.10.9"
  }
 },
 "nbformat": 4,
 "nbformat_minor": 5
}
